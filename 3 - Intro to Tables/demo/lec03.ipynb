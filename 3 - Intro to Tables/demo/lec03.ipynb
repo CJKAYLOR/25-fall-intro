{
 "cells": [
  {
   "cell_type": "code",
   "execution_count": 26,
   "metadata": {},
   "outputs": [],
   "source": [
    "from datascience import *\n",
    "import numpy as np\n",
    "\n",
    "%matplotlib inline\n",
    "import matplotlib.pyplot as plots\n",
    "plots.style.use('fivethirtyeight')"
   ]
  },
  {
   "cell_type": "markdown",
   "metadata": {},
   "source": [
    "## Tables ##"
   ]
  },
  {
   "cell_type": "code",
   "execution_count": null,
   "metadata": {},
   "outputs": [],
   "source": [
    "cones = Table.read_table('cones.csv')\n",
    "cones"
   ]
  },
  {
   "cell_type": "code",
   "execution_count": null,
   "metadata": {},
   "outputs": [],
   "source": [
    "cones.show(3)"
   ]
  },
  {
   "cell_type": "code",
   "execution_count": null,
   "metadata": {},
   "outputs": [],
   "source": [
    "cones.show()"
   ]
  },
  {
   "cell_type": "code",
   "execution_count": null,
   "metadata": {},
   "outputs": [],
   "source": [
    "flavor_table = cones.select('Flavor')"
   ]
  },
  {
   "cell_type": "code",
   "execution_count": null,
   "metadata": {},
   "outputs": [],
   "source": [
    "cones.show()\n",
    "flavor_table.show()"
   ]
  },
  {
   "cell_type": "code",
   "execution_count": null,
   "metadata": {},
   "outputs": [],
   "source": [
    "cones.select('Flavor', 'Price')"
   ]
  },
  {
   "cell_type": "code",
   "execution_count": null,
   "metadata": {
    "tags": [
     "raises-exception"
    ]
   },
   "outputs": [],
   "source": [
    "# The line below causes an error because Flavor is not a name.\n",
    "# cones.select(Flavor, 'Price')"
   ]
  },
  {
   "cell_type": "code",
   "execution_count": null,
   "metadata": {},
   "outputs": [],
   "source": [
    "cones.drop('Price')"
   ]
  },
  {
   "cell_type": "code",
   "execution_count": null,
   "metadata": {},
   "outputs": [],
   "source": [
    "cones.show()"
   ]
  },
  {
   "cell_type": "code",
   "execution_count": null,
   "metadata": {},
   "outputs": [],
   "source": [
    "cones_without_price = cones.drop('Price')\n",
    "cones_without_price"
   ]
  },
  {
   "cell_type": "code",
   "execution_count": null,
   "metadata": {
    "scrolled": true
   },
   "outputs": [],
   "source": [
    "cones.where('Flavor', 'chocolate')"
   ]
  },
  {
   "cell_type": "code",
   "execution_count": null,
   "metadata": {},
   "outputs": [],
   "source": [
    "cones.sort('Price')"
   ]
  },
  {
   "cell_type": "code",
   "execution_count": null,
   "metadata": {
    "scrolled": true
   },
   "outputs": [],
   "source": [
    "cones.sort('Price', descending=True)"
   ]
  },
  {
   "cell_type": "code",
   "execution_count": null,
   "metadata": {},
   "outputs": [],
   "source": [
    "cones.sort('Flavor', descending=True)"
   ]
  },
  {
   "cell_type": "markdown",
   "metadata": {},
   "source": [
    "### A more interesting table"
   ]
  },
  {
   "cell_type": "code",
   "execution_count": 27,
   "metadata": {},
   "outputs": [
    {
     "data": {
      "text/html": [
       "<table border=\"1\" class=\"dataframe\">\n",
       "    <thead>\n",
       "        <tr>\n",
       "            <th>rank</th> <th>name</th> <th>position</th> <th>team</th> <th>salary</th> <th>season</th>\n",
       "        </tr>\n",
       "    </thead>\n",
       "    <tbody>\n",
       "        <tr>\n",
       "            <td>1   </td> <td>Shaquille O'Neal</td> <td>C       </td> <td>Los Angeles Lakers    </td> <td>17142000</td> <td>2000  </td>\n",
       "        </tr>\n",
       "        <tr>\n",
       "            <td>2   </td> <td>Kevin Garnett   </td> <td>PF      </td> <td>Minnesota Timberwolves</td> <td>16806000</td> <td>2000  </td>\n",
       "        </tr>\n",
       "        <tr>\n",
       "            <td>3   </td> <td>Alonzo Mourning </td> <td>C       </td> <td>Miami Heat            </td> <td>15004000</td> <td>2000  </td>\n",
       "        </tr>\n",
       "        <tr>\n",
       "            <td>4   </td> <td>Juwan Howard    </td> <td>PF      </td> <td>Washington Wizards    </td> <td>15000000</td> <td>2000  </td>\n",
       "        </tr>\n",
       "        <tr>\n",
       "            <td>5   </td> <td>Scottie Pippen  </td> <td>SF      </td> <td>Portland Trail Blazers</td> <td>14795000</td> <td>2000  </td>\n",
       "        </tr>\n",
       "        <tr>\n",
       "            <td>6   </td> <td>Karl Malone     </td> <td>PF      </td> <td>Utah Jazz             </td> <td>14000000</td> <td>2000  </td>\n",
       "        </tr>\n",
       "        <tr>\n",
       "            <td>7   </td> <td>Larry Johnson   </td> <td>F       </td> <td>New York Knicks       </td> <td>11910000</td> <td>2000  </td>\n",
       "        </tr>\n",
       "        <tr>\n",
       "            <td>8   </td> <td>Gary Payton     </td> <td>PG      </td> <td>Seattle SuperSonics   </td> <td>11020000</td> <td>2000  </td>\n",
       "        </tr>\n",
       "        <tr>\n",
       "            <td>9   </td> <td>Rasheed Wallace </td> <td>PF      </td> <td>Portland Trail Blazers</td> <td>10800000</td> <td>2000  </td>\n",
       "        </tr>\n",
       "        <tr>\n",
       "            <td>10  </td> <td>Shawn Kemp      </td> <td>C       </td> <td>Cleveland Cavaliers   </td> <td>10780000</td> <td>2000  </td>\n",
       "        </tr>\n",
       "    </tbody>\n",
       "</table>\n",
       "<p>... (9446 rows omitted)</p>"
      ],
      "text/plain": [
       "rank | name             | position | team                   | salary   | season\n",
       "1    | Shaquille O'Neal | C        | Los Angeles Lakers     | 17142000 | 2000\n",
       "2    | Kevin Garnett    | PF       | Minnesota Timberwolves | 16806000 | 2000\n",
       "3    | Alonzo Mourning  | C        | Miami Heat             | 15004000 | 2000\n",
       "4    | Juwan Howard     | PF       | Washington Wizards     | 15000000 | 2000\n",
       "5    | Scottie Pippen   | SF       | Portland Trail Blazers | 14795000 | 2000\n",
       "6    | Karl Malone      | PF       | Utah Jazz              | 14000000 | 2000\n",
       "7    | Larry Johnson    | F        | New York Knicks        | 11910000 | 2000\n",
       "8    | Gary Payton      | PG       | Seattle SuperSonics    | 11020000 | 2000\n",
       "9    | Rasheed Wallace  | PF       | Portland Trail Blazers | 10800000 | 2000\n",
       "10   | Shawn Kemp       | C        | Cleveland Cavaliers    | 10780000 | 2000\n",
       "... (9446 rows omitted)"
      ]
     },
     "execution_count": 27,
     "metadata": {},
     "output_type": "execute_result"
    }
   ],
   "source": [
    "# From https://github.com/erikgregorywebb/datasets/blob/master/nba-salaries.csv\n",
    "nba = Table.read_table('nba_salaries.csv')\n",
    "nba"
   ]
  },
  {
   "cell_type": "code",
   "execution_count": 30,
   "metadata": {},
   "outputs": [],
   "source": [
    "point_guards = nba.where('position', 'PG').where('season', 2020)"
   ]
  },
  {
   "cell_type": "code",
   "execution_count": 33,
   "metadata": {},
   "outputs": [
    {
     "data": {
      "text/html": [
       "<table border=\"1\" class=\"dataframe\">\n",
       "    <thead>\n",
       "        <tr>\n",
       "            <th>rank</th> <th>name</th> <th>position</th> <th>team</th> <th>salary</th> <th>season</th>\n",
       "        </tr>\n",
       "    </thead>\n",
       "    <tbody>\n",
       "        <tr>\n",
       "            <td>1   </td> <td>Stephen Curry    </td> <td>PG      </td> <td>Golden State Warriors </td> <td>40231758</td> <td>2020  </td>\n",
       "        </tr>\n",
       "        <tr>\n",
       "            <td>2   </td> <td>Chris Paul       </td> <td>PG      </td> <td>Oklahoma City Thunder </td> <td>38506482</td> <td>2020  </td>\n",
       "        </tr>\n",
       "        <tr>\n",
       "            <td>3   </td> <td>Russell Westbrook</td> <td>PG      </td> <td>Houston Rockets       </td> <td>38506482</td> <td>2020  </td>\n",
       "        </tr>\n",
       "        <tr>\n",
       "            <td>4   </td> <td>John Wall        </td> <td>PG      </td> <td>Washington Wizards    </td> <td>38199000</td> <td>2020  </td>\n",
       "        </tr>\n",
       "        <tr>\n",
       "            <td>8   </td> <td>Kyle Lowry       </td> <td>PG      </td> <td>Toronto Raptors       </td> <td>34996296</td> <td>2020  </td>\n",
       "        </tr>\n",
       "        <tr>\n",
       "            <td>14  </td> <td>Kemba Walker     </td> <td>PG      </td> <td>Boston Celtics        </td> <td>32742000</td> <td>2020  </td>\n",
       "        </tr>\n",
       "        <tr>\n",
       "            <td>16  </td> <td>Mike Conley      </td> <td>PG      </td> <td>Utah Jazz             </td> <td>32511624</td> <td>2020  </td>\n",
       "        </tr>\n",
       "        <tr>\n",
       "            <td>17  </td> <td>Kyrie Irving     </td> <td>PG      </td> <td>Brooklyn Nets         </td> <td>31742000</td> <td>2020  </td>\n",
       "        </tr>\n",
       "        <tr>\n",
       "            <td>21  </td> <td>Damian Lillard   </td> <td>PG      </td> <td>Portland Trail Blazers</td> <td>29802321</td> <td>2020  </td>\n",
       "        </tr>\n",
       "        <tr>\n",
       "            <td>52  </td> <td>Malcolm Brogdon  </td> <td>PG      </td> <td>Indiana Pacers        </td> <td>20000000</td> <td>2020  </td>\n",
       "        </tr>\n",
       "    </tbody>\n",
       "</table>\n",
       "<p>... (72 rows omitted)</p>"
      ],
      "text/plain": [
       "rank | name              | position | team                   | salary   | season\n",
       "1    | Stephen Curry     | PG       | Golden State Warriors  | 40231758 | 2020\n",
       "2    | Chris Paul        | PG       | Oklahoma City Thunder  | 38506482 | 2020\n",
       "3    | Russell Westbrook | PG       | Houston Rockets        | 38506482 | 2020\n",
       "4    | John Wall         | PG       | Washington Wizards     | 38199000 | 2020\n",
       "8    | Kyle Lowry        | PG       | Toronto Raptors        | 34996296 | 2020\n",
       "14   | Kemba Walker      | PG       | Boston Celtics         | 32742000 | 2020\n",
       "16   | Mike Conley       | PG       | Utah Jazz              | 32511624 | 2020\n",
       "17   | Kyrie Irving      | PG       | Brooklyn Nets          | 31742000 | 2020\n",
       "21   | Damian Lillard    | PG       | Portland Trail Blazers | 29802321 | 2020\n",
       "52   | Malcolm Brogdon   | PG       | Indiana Pacers         | 20000000 | 2020\n",
       "... (72 rows omitted)"
      ]
     },
     "execution_count": 33,
     "metadata": {},
     "output_type": "execute_result"
    }
   ],
   "source": [
    "point_guards"
   ]
  },
  {
   "cell_type": "code",
   "execution_count": 34,
   "metadata": {},
   "outputs": [
    {
     "data": {
      "text/html": [
       "<table border=\"1\" class=\"dataframe\">\n",
       "    <thead>\n",
       "        <tr>\n",
       "            <th>rank</th> <th>name</th> <th>team</th> <th>salary</th> <th>season</th>\n",
       "        </tr>\n",
       "    </thead>\n",
       "    <tbody>\n",
       "        <tr>\n",
       "            <td>1   </td> <td>Stephen Curry    </td> <td>Golden State Warriors </td> <td>40231758</td> <td>2020  </td>\n",
       "        </tr>\n",
       "        <tr>\n",
       "            <td>2   </td> <td>Chris Paul       </td> <td>Oklahoma City Thunder </td> <td>38506482</td> <td>2020  </td>\n",
       "        </tr>\n",
       "        <tr>\n",
       "            <td>3   </td> <td>Russell Westbrook</td> <td>Houston Rockets       </td> <td>38506482</td> <td>2020  </td>\n",
       "        </tr>\n",
       "        <tr>\n",
       "            <td>4   </td> <td>John Wall        </td> <td>Washington Wizards    </td> <td>38199000</td> <td>2020  </td>\n",
       "        </tr>\n",
       "        <tr>\n",
       "            <td>8   </td> <td>Kyle Lowry       </td> <td>Toronto Raptors       </td> <td>34996296</td> <td>2020  </td>\n",
       "        </tr>\n",
       "        <tr>\n",
       "            <td>14  </td> <td>Kemba Walker     </td> <td>Boston Celtics        </td> <td>32742000</td> <td>2020  </td>\n",
       "        </tr>\n",
       "        <tr>\n",
       "            <td>16  </td> <td>Mike Conley      </td> <td>Utah Jazz             </td> <td>32511624</td> <td>2020  </td>\n",
       "        </tr>\n",
       "        <tr>\n",
       "            <td>17  </td> <td>Kyrie Irving     </td> <td>Brooklyn Nets         </td> <td>31742000</td> <td>2020  </td>\n",
       "        </tr>\n",
       "        <tr>\n",
       "            <td>21  </td> <td>Damian Lillard   </td> <td>Portland Trail Blazers</td> <td>29802321</td> <td>2020  </td>\n",
       "        </tr>\n",
       "        <tr>\n",
       "            <td>52  </td> <td>Malcolm Brogdon  </td> <td>Indiana Pacers        </td> <td>20000000</td> <td>2020  </td>\n",
       "        </tr>\n",
       "    </tbody>\n",
       "</table>\n",
       "<p>... (72 rows omitted)</p>"
      ],
      "text/plain": [
       "rank | name              | team                   | salary   | season\n",
       "1    | Stephen Curry     | Golden State Warriors  | 40231758 | 2020\n",
       "2    | Chris Paul        | Oklahoma City Thunder  | 38506482 | 2020\n",
       "3    | Russell Westbrook | Houston Rockets        | 38506482 | 2020\n",
       "4    | John Wall         | Washington Wizards     | 38199000 | 2020\n",
       "8    | Kyle Lowry        | Toronto Raptors        | 34996296 | 2020\n",
       "14   | Kemba Walker      | Boston Celtics         | 32742000 | 2020\n",
       "16   | Mike Conley       | Utah Jazz              | 32511624 | 2020\n",
       "17   | Kyrie Irving      | Brooklyn Nets          | 31742000 | 2020\n",
       "21   | Damian Lillard    | Portland Trail Blazers | 29802321 | 2020\n",
       "52   | Malcolm Brogdon   | Indiana Pacers         | 20000000 | 2020\n",
       "... (72 rows omitted)"
      ]
     },
     "execution_count": 34,
     "metadata": {},
     "output_type": "execute_result"
    }
   ],
   "source": [
    "point_guards.drop('position')"
   ]
  },
  {
   "cell_type": "code",
   "execution_count": 35,
   "metadata": {},
   "outputs": [
    {
     "data": {
      "text/html": [
       "<table border=\"1\" class=\"dataframe\">\n",
       "    <thead>\n",
       "        <tr>\n",
       "            <th>rank</th> <th>name</th> <th>position</th> <th>team</th> <th>salary</th> <th>season</th>\n",
       "        </tr>\n",
       "    </thead>\n",
       "    <tbody>\n",
       "        <tr>\n",
       "            <td>1   </td> <td>Stephen Curry    </td> <td>PG      </td> <td>Golden State Warriors </td> <td>40231758</td> <td>2020  </td>\n",
       "        </tr>\n",
       "        <tr>\n",
       "            <td>2   </td> <td>Chris Paul       </td> <td>PG      </td> <td>Oklahoma City Thunder </td> <td>38506482</td> <td>2020  </td>\n",
       "        </tr>\n",
       "        <tr>\n",
       "            <td>3   </td> <td>Russell Westbrook</td> <td>PG      </td> <td>Houston Rockets       </td> <td>38506482</td> <td>2020  </td>\n",
       "        </tr>\n",
       "        <tr>\n",
       "            <td>4   </td> <td>John Wall        </td> <td>PG      </td> <td>Washington Wizards    </td> <td>38199000</td> <td>2020  </td>\n",
       "        </tr>\n",
       "        <tr>\n",
       "            <td>8   </td> <td>Kyle Lowry       </td> <td>PG      </td> <td>Toronto Raptors       </td> <td>34996296</td> <td>2020  </td>\n",
       "        </tr>\n",
       "        <tr>\n",
       "            <td>14  </td> <td>Kemba Walker     </td> <td>PG      </td> <td>Boston Celtics        </td> <td>32742000</td> <td>2020  </td>\n",
       "        </tr>\n",
       "        <tr>\n",
       "            <td>16  </td> <td>Mike Conley      </td> <td>PG      </td> <td>Utah Jazz             </td> <td>32511624</td> <td>2020  </td>\n",
       "        </tr>\n",
       "        <tr>\n",
       "            <td>17  </td> <td>Kyrie Irving     </td> <td>PG      </td> <td>Brooklyn Nets         </td> <td>31742000</td> <td>2020  </td>\n",
       "        </tr>\n",
       "        <tr>\n",
       "            <td>21  </td> <td>Damian Lillard   </td> <td>PG      </td> <td>Portland Trail Blazers</td> <td>29802321</td> <td>2020  </td>\n",
       "        </tr>\n",
       "        <tr>\n",
       "            <td>52  </td> <td>Malcolm Brogdon  </td> <td>PG      </td> <td>Indiana Pacers        </td> <td>20000000</td> <td>2020  </td>\n",
       "        </tr>\n",
       "    </tbody>\n",
       "</table>\n",
       "<p>... (72 rows omitted)</p>"
      ],
      "text/plain": [
       "rank | name              | position | team                   | salary   | season\n",
       "1    | Stephen Curry     | PG       | Golden State Warriors  | 40231758 | 2020\n",
       "2    | Chris Paul        | PG       | Oklahoma City Thunder  | 38506482 | 2020\n",
       "3    | Russell Westbrook | PG       | Houston Rockets        | 38506482 | 2020\n",
       "4    | John Wall         | PG       | Washington Wizards     | 38199000 | 2020\n",
       "8    | Kyle Lowry        | PG       | Toronto Raptors        | 34996296 | 2020\n",
       "14   | Kemba Walker      | PG       | Boston Celtics         | 32742000 | 2020\n",
       "16   | Mike Conley       | PG       | Utah Jazz              | 32511624 | 2020\n",
       "17   | Kyrie Irving      | PG       | Brooklyn Nets          | 31742000 | 2020\n",
       "21   | Damian Lillard    | PG       | Portland Trail Blazers | 29802321 | 2020\n",
       "52   | Malcolm Brogdon   | PG       | Indiana Pacers         | 20000000 | 2020\n",
       "... (72 rows omitted)"
      ]
     },
     "execution_count": 35,
     "metadata": {},
     "output_type": "execute_result"
    }
   ],
   "source": [
    "point_guards"
   ]
  },
  {
   "cell_type": "code",
   "execution_count": 36,
   "metadata": {},
   "outputs": [],
   "source": [
    "point_guards = point_guards.drop('rank', 'position', 'season')"
   ]
  },
  {
   "cell_type": "code",
   "execution_count": 37,
   "metadata": {},
   "outputs": [
    {
     "data": {
      "text/html": [
       "<table border=\"1\" class=\"dataframe\">\n",
       "    <thead>\n",
       "        <tr>\n",
       "            <th>name</th> <th>team</th> <th>salary</th>\n",
       "        </tr>\n",
       "    </thead>\n",
       "    <tbody>\n",
       "        <tr>\n",
       "            <td>Stephen Curry    </td> <td>Golden State Warriors </td> <td>40231758</td>\n",
       "        </tr>\n",
       "        <tr>\n",
       "            <td>Chris Paul       </td> <td>Oklahoma City Thunder </td> <td>38506482</td>\n",
       "        </tr>\n",
       "        <tr>\n",
       "            <td>Russell Westbrook</td> <td>Houston Rockets       </td> <td>38506482</td>\n",
       "        </tr>\n",
       "        <tr>\n",
       "            <td>John Wall        </td> <td>Washington Wizards    </td> <td>38199000</td>\n",
       "        </tr>\n",
       "        <tr>\n",
       "            <td>Kyle Lowry       </td> <td>Toronto Raptors       </td> <td>34996296</td>\n",
       "        </tr>\n",
       "        <tr>\n",
       "            <td>Kemba Walker     </td> <td>Boston Celtics        </td> <td>32742000</td>\n",
       "        </tr>\n",
       "        <tr>\n",
       "            <td>Mike Conley      </td> <td>Utah Jazz             </td> <td>32511624</td>\n",
       "        </tr>\n",
       "        <tr>\n",
       "            <td>Kyrie Irving     </td> <td>Brooklyn Nets         </td> <td>31742000</td>\n",
       "        </tr>\n",
       "        <tr>\n",
       "            <td>Damian Lillard   </td> <td>Portland Trail Blazers</td> <td>29802321</td>\n",
       "        </tr>\n",
       "        <tr>\n",
       "            <td>Malcolm Brogdon  </td> <td>Indiana Pacers        </td> <td>20000000</td>\n",
       "        </tr>\n",
       "    </tbody>\n",
       "</table>\n",
       "<p>... (72 rows omitted)</p>"
      ],
      "text/plain": [
       "<IPython.core.display.HTML object>"
      ]
     },
     "metadata": {},
     "output_type": "display_data"
    }
   ],
   "source": [
    "point_guards.show(10)"
   ]
  },
  {
   "cell_type": "code",
   "execution_count": 38,
   "metadata": {},
   "outputs": [
    {
     "data": {
      "text/html": [
       "<table border=\"1\" class=\"dataframe\">\n",
       "    <thead>\n",
       "        <tr>\n",
       "            <th>name</th> <th>team</th> <th>salary</th>\n",
       "        </tr>\n",
       "    </thead>\n",
       "    <tbody>\n",
       "        <tr>\n",
       "            <td>Ky Bowman      </td> <td>Golden State Warriors</td> <td>350189 </td>\n",
       "        </tr>\n",
       "        <tr>\n",
       "            <td>Reggie Jackson </td> <td>LA Clippers          </td> <td>512721 </td>\n",
       "        </tr>\n",
       "        <tr>\n",
       "            <td>Brandon Goodwin</td> <td>Atlanta Hawks        </td> <td>522738 </td>\n",
       "        </tr>\n",
       "        <tr>\n",
       "            <td>Chris Clemons  </td> <td>Houston Rockets      </td> <td>563347 </td>\n",
       "        </tr>\n",
       "        <tr>\n",
       "            <td>Justin Robinson</td> <td>Washington Wizards   </td> <td>898310 </td>\n",
       "        </tr>\n",
       "        <tr>\n",
       "            <td>Jalen Lecque   </td> <td>Phoenix Suns         </td> <td>898310 </td>\n",
       "        </tr>\n",
       "        <tr>\n",
       "            <td>Gary Payton II </td> <td>Washington Wizards   </td> <td>1052909</td>\n",
       "        </tr>\n",
       "        <tr>\n",
       "            <td>Carsen Edwards </td> <td>Boston Celtics       </td> <td>1228026</td>\n",
       "        </tr>\n",
       "        <tr>\n",
       "            <td>Devonte' Graham</td> <td>Charlotte Hornets    </td> <td>1416852</td>\n",
       "        </tr>\n",
       "        <tr>\n",
       "            <td>Jevon Carter   </td> <td>Phoenix Suns         </td> <td>1416852</td>\n",
       "        </tr>\n",
       "    </tbody>\n",
       "</table>\n",
       "<p>... (72 rows omitted)</p>"
      ],
      "text/plain": [
       "<IPython.core.display.HTML object>"
      ]
     },
     "metadata": {},
     "output_type": "display_data"
    }
   ],
   "source": [
    "point_guards.sort('salary').show(10)"
   ]
  },
  {
   "cell_type": "code",
   "execution_count": 46,
   "metadata": {},
   "outputs": [
    {
     "data": {
      "text/html": [
       "<table border=\"1\" class=\"dataframe\">\n",
       "    <thead>\n",
       "        <tr>\n",
       "            <th>team</th> <th>salary</th> <th>name</th>\n",
       "        </tr>\n",
       "    </thead>\n",
       "    <tbody>\n",
       "        <tr>\n",
       "            <td>Golden State Warriors </td> <td>40231758</td> <td>Stephen Curry    </td>\n",
       "        </tr>\n",
       "        <tr>\n",
       "            <td>Oklahoma City Thunder </td> <td>38506482</td> <td>Chris Paul       </td>\n",
       "        </tr>\n",
       "        <tr>\n",
       "            <td>Houston Rockets       </td> <td>38506482</td> <td>Russell Westbrook</td>\n",
       "        </tr>\n",
       "        <tr>\n",
       "            <td>Washington Wizards    </td> <td>38199000</td> <td>John Wall        </td>\n",
       "        </tr>\n",
       "        <tr>\n",
       "            <td>Toronto Raptors       </td> <td>34996296</td> <td>Kyle Lowry       </td>\n",
       "        </tr>\n",
       "        <tr>\n",
       "            <td>Boston Celtics        </td> <td>32742000</td> <td>Kemba Walker     </td>\n",
       "        </tr>\n",
       "        <tr>\n",
       "            <td>Utah Jazz             </td> <td>32511624</td> <td>Mike Conley      </td>\n",
       "        </tr>\n",
       "        <tr>\n",
       "            <td>Brooklyn Nets         </td> <td>31742000</td> <td>Kyrie Irving     </td>\n",
       "        </tr>\n",
       "        <tr>\n",
       "            <td>Portland Trail Blazers</td> <td>29802321</td> <td>Damian Lillard   </td>\n",
       "        </tr>\n",
       "        <tr>\n",
       "            <td>Indiana Pacers        </td> <td>20000000</td> <td>Malcolm Brogdon  </td>\n",
       "        </tr>\n",
       "    </tbody>\n",
       "</table>\n",
       "<p>... (72 rows omitted)</p>"
      ],
      "text/plain": [
       "<IPython.core.display.HTML object>"
      ]
     },
     "metadata": {},
     "output_type": "display_data"
    }
   ],
   "source": [
    "point_guards.sort('salary', descending=True).show(10)"
   ]
  },
  {
   "cell_type": "code",
   "execution_count": null,
   "metadata": {
    "tags": [
     "raises-exception"
    ]
   },
   "outputs": [],
   "source": [
    "# The line below will cause a value error\n",
    "nba.drop('position').where('position', 'PG')"
   ]
  }
 ],
 "metadata": {
  "anaconda-cloud": {},
  "kernelspec": {
   "display_name": "Python 3",
   "language": "python",
   "name": "python3"
  },
  "language_info": {
   "codemirror_mode": {
    "name": "ipython",
    "version": 3
   },
   "file_extension": ".py",
   "mimetype": "text/x-python",
   "name": "python",
   "nbconvert_exporter": "python",
   "pygments_lexer": "ipython3",
   "version": "3.12.1"
  }
 },
 "nbformat": 4,
 "nbformat_minor": 4
}
